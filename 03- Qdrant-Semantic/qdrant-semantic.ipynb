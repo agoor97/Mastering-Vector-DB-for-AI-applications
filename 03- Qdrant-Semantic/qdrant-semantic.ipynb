{
 "cells": [
  {
   "cell_type": "markdown",
   "metadata": {},
   "source": [
    "##### `Semantic Search with Qdrant and embeddings using HuggingFace Model`"
   ]
  },
  {
   "cell_type": "code",
   "execution_count": 1,
   "metadata": {},
   "outputs": [
    {
     "name": "stderr",
     "output_type": "stream",
     "text": [
      "c:\\Users\\moham\\anaconda3\\envs\\vectdb\\lib\\site-packages\\tqdm\\auto.py:21: TqdmWarning: IProgress not found. Please update jupyter and ipywidgets. See https://ipywidgets.readthedocs.io/en/stable/user_install.html\n",
      "  from .autonotebook import tqdm as notebook_tqdm\n"
     ]
    }
   ],
   "source": [
    "## Import Libraries\n",
    "import pandas as pd\n",
    "import os\n",
    "from tqdm import tqdm\n",
    "from dotenv import load_dotenv\n",
    "from sentence_transformers import SentenceTransformer\n",
    "\n",
    "from qdrant_client import QdrantClient\n",
    "from qdrant_client.http.models import VectorParams, Distance, Batch, PointIdsList"
   ]
  },
  {
   "cell_type": "code",
   "execution_count": 2,
   "metadata": {},
   "outputs": [],
   "source": [
    "## Load dotenv file\n",
    "_ = load_dotenv(override=True)\n",
    "qdrant_key = os.getenv('QDRANT_API_KEY')\n",
    "qdrant_url = os.getenv('QDRANT_URL')"
   ]
  },
  {
   "cell_type": "code",
   "execution_count": 3,
   "metadata": {},
   "outputs": [],
   "source": [
    "# ## Reading the big file once to slice it, then commenting this code\n",
    "# FOLDER_PATH = os.path.join(os.getcwd(), 'datasets', 'dataset-semantic')\n",
    "# df = pd.read_csv(os.path.join(FOLDER_PATH, 'medium_articles.csv'))\n",
    "# ## Data is very big, for simplicity taking only the first 500 records, Download them and reread them again.\n",
    "# ## Make sure that the title is string\n",
    "# df['title'] = df['title'].astype(str)\n",
    "\n",
    "# df = df.loc[:499, 'title']\n",
    "\n",
    "# df = pd.DataFrame(df, columns=['title'])\n",
    "# ## Add random id in DF\n",
    "# df['id'] = np.arange(3054, 3054+len(df), 1)\n",
    "\n",
    "\n",
    "# ## Let's consider this is our stock that we want to build semantic search for it.\n",
    "# df.to_csv(os.path.join(FOLDER_PATH, 'articles_new.csv'), index=False)"
   ]
  },
  {
   "cell_type": "code",
   "execution_count": 4,
   "metadata": {},
   "outputs": [
    {
     "data": {
      "text/html": [
       "<div>\n",
       "<style scoped>\n",
       "    .dataframe tbody tr th:only-of-type {\n",
       "        vertical-align: middle;\n",
       "    }\n",
       "\n",
       "    .dataframe tbody tr th {\n",
       "        vertical-align: top;\n",
       "    }\n",
       "\n",
       "    .dataframe thead th {\n",
       "        text-align: right;\n",
       "    }\n",
       "</style>\n",
       "<table border=\"1\" class=\"dataframe\">\n",
       "  <thead>\n",
       "    <tr style=\"text-align: right;\">\n",
       "      <th></th>\n",
       "      <th>title</th>\n",
       "      <th>id</th>\n",
       "    </tr>\n",
       "  </thead>\n",
       "  <tbody>\n",
       "    <tr>\n",
       "      <th>0</th>\n",
       "      <td>Mental Note Vol. 24</td>\n",
       "      <td>3054</td>\n",
       "    </tr>\n",
       "    <tr>\n",
       "      <th>1</th>\n",
       "      <td>Your Brain On Coronavirus</td>\n",
       "      <td>3055</td>\n",
       "    </tr>\n",
       "    <tr>\n",
       "      <th>2</th>\n",
       "      <td>Mind Your Nose</td>\n",
       "      <td>3056</td>\n",
       "    </tr>\n",
       "    <tr>\n",
       "      <th>3</th>\n",
       "      <td>The 4 Purposes of Dreams</td>\n",
       "      <td>3057</td>\n",
       "    </tr>\n",
       "    <tr>\n",
       "      <th>4</th>\n",
       "      <td>Surviving a Rod Through the Head</td>\n",
       "      <td>3058</td>\n",
       "    </tr>\n",
       "    <tr>\n",
       "      <th>...</th>\n",
       "      <td>...</td>\n",
       "      <td>...</td>\n",
       "    </tr>\n",
       "    <tr>\n",
       "      <th>495</th>\n",
       "      <td>Is It Worth to Invest In Mobile E-commerce App...</td>\n",
       "      <td>3549</td>\n",
       "    </tr>\n",
       "    <tr>\n",
       "      <th>496</th>\n",
       "      <td>Let go of these things for a happier 2021</td>\n",
       "      <td>3550</td>\n",
       "    </tr>\n",
       "    <tr>\n",
       "      <th>497</th>\n",
       "      <td>Not Everyone Will like Your Writing</td>\n",
       "      <td>3551</td>\n",
       "    </tr>\n",
       "    <tr>\n",
       "      <th>498</th>\n",
       "      <td>Is Technology Neutral?</td>\n",
       "      <td>3552</td>\n",
       "    </tr>\n",
       "    <tr>\n",
       "      <th>499</th>\n",
       "      <td>Unveiling The Secrets of Navratri</td>\n",
       "      <td>3553</td>\n",
       "    </tr>\n",
       "  </tbody>\n",
       "</table>\n",
       "<p>500 rows × 2 columns</p>\n",
       "</div>"
      ],
      "text/plain": [
       "                                                 title    id\n",
       "0                                  Mental Note Vol. 24  3054\n",
       "1                            Your Brain On Coronavirus  3055\n",
       "2                                       Mind Your Nose  3056\n",
       "3                             The 4 Purposes of Dreams  3057\n",
       "4                     Surviving a Rod Through the Head  3058\n",
       "..                                                 ...   ...\n",
       "495  Is It Worth to Invest In Mobile E-commerce App...  3549\n",
       "496          Let go of these things for a happier 2021  3550\n",
       "497                Not Everyone Will like Your Writing  3551\n",
       "498                             Is Technology Neutral?  3552\n",
       "499                  Unveiling The Secrets of Navratri  3553\n",
       "\n",
       "[500 rows x 2 columns]"
      ]
     },
     "execution_count": 4,
     "metadata": {},
     "output_type": "execute_result"
    }
   ],
   "source": [
    "## Read the New CSV File\n",
    "FILE_PATH = os.path.join(os.getcwd(), 'dataset-semantic', 'articles_new.csv')\n",
    "df = pd.read_csv(FILE_PATH)\n",
    "df"
   ]
  },
  {
   "cell_type": "markdown",
   "metadata": {},
   "source": [
    "* `Embeddings using HuggingFace Model`"
   ]
  },
  {
   "cell_type": "code",
   "execution_count": 5,
   "metadata": {},
   "outputs": [
    {
     "data": {
      "text/plain": [
       "SentenceTransformer(\n",
       "  (0): Transformer({'max_seq_length': 256, 'do_lower_case': False}) with Transformer model: BertModel \n",
       "  (1): Pooling({'word_embedding_dimension': 384, 'pooling_mode_cls_token': False, 'pooling_mode_mean_tokens': True, 'pooling_mode_max_tokens': False, 'pooling_mode_mean_sqrt_len_tokens': False})\n",
       "  (2): Normalize()\n",
       ")"
      ]
     },
     "execution_count": 5,
     "metadata": {},
     "output_type": "execute_result"
    }
   ],
   "source": [
    "## A famous transformer (all-MiniLM-L6-v2) from here: https://huggingface.co/sentence-transformers/all-MiniLM-L6-v2\n",
    "\n",
    "## The Model\n",
    "model_hugging = SentenceTransformer(model_name_or_path='all-MiniLM-L6-v2', device='cpu')\n",
    "model_hugging"
   ]
  },
  {
   "cell_type": "code",
   "execution_count": 6,
   "metadata": {},
   "outputs": [
    {
     "name": "stdout",
     "output_type": "stream",
     "text": [
      "Length of Hugging Face Model is: 384\n"
     ]
    },
    {
     "data": {
      "text/plain": [
       "array([-0.0131355 ,  0.06555433, -0.01977038, -0.03618841, -0.07723403,\n",
       "        0.10825918,  0.0849674 ,  0.02290434,  0.02159446,  0.00035316],\n",
       "      dtype=float32)"
      ]
     },
     "execution_count": 6,
     "metadata": {},
     "output_type": "execute_result"
    }
   ],
   "source": [
    "## test model for embedding \n",
    "vect_length_hugging = len(model_hugging.encode(df['title'].iloc[0]))\n",
    "print('Length of Hugging Face Model is:', vect_length_hugging)\n",
    "\n",
    "## First 10 values\n",
    "model_hugging.encode(df['title'].iloc[0])[:10]"
   ]
  },
  {
   "cell_type": "markdown",
   "metadata": {},
   "source": [
    "* `Qdrant in Code`"
   ]
  },
  {
   "cell_type": "code",
   "execution_count": 8,
   "metadata": {},
   "outputs": [
    {
     "data": {
      "text/plain": [
       "True"
      ]
     },
     "execution_count": 8,
     "metadata": {},
     "output_type": "execute_result"
    }
   ],
   "source": [
    "## Connect to Qdrant Client\n",
    "\n",
    "## Initilaize a Client\n",
    "client = QdrantClient(url=qdrant_url, api_key=qdrant_key)\n",
    "\n",
    "## Collection Configurations\n",
    "collection_config = VectorParams(\n",
    "                            size=vect_length_hugging,     ## The lenght of HuggingFace Model\n",
    "                            distance=Distance.COSINE,     ## The similarity metric\n",
    "                            on_disk=True                  ## RAM optimizing\n",
    "                                )\n",
    "\n",
    "## Create a Collection \n",
    "client.recreate_collection(collection_name='semantic-search-course', vectors_config=collection_config)"
   ]
  },
  {
   "cell_type": "code",
   "execution_count": 10,
   "metadata": {},
   "outputs": [
    {
     "name": "stdout",
     "output_type": "stream",
     "text": [
      "Status is: green\n",
      "Vectors Count is: 0\n"
     ]
    }
   ],
   "source": [
    "## Check Status of Collection\n",
    "collection_status = client.get_collection(collection_name='semantic-search-course').status\n",
    "collection_count_vectors = client.get_collection(collection_name='semantic-search-course').vectors_count\n",
    "\n",
    "print(f'Status is: {collection_status}')\n",
    "print(f'Vectors Count is: {collection_count_vectors}')"
   ]
  },
  {
   "cell_type": "code",
   "execution_count": 12,
   "metadata": {},
   "outputs": [
    {
     "name": "stderr",
     "output_type": "stream",
     "text": [
      "100%|██████████| 16/16 [00:16<00:00,  1.04s/it]\n"
     ]
    }
   ],
   "source": [
    "## Function for upserting data to Qdrant\n",
    "def upsert_to_qdrant(df, batch_size=32):\n",
    "\n",
    "    ## A list for failed_ids\n",
    "    failed_ids = []\n",
    "\n",
    "    for batch_start in tqdm(range(0, len(df), batch_size)):\n",
    "\n",
    "        try:\n",
    "            ## Prepare batches\n",
    "            batch_end = min(batch_start+batch_size, len(df))\n",
    "            titles_batch = df['title'][batch_start: batch_end].tolist()\n",
    "            ids_batch = df['id'][batch_start: batch_end].tolist()     ## No need to be converted to string (Qdrant need integer)\n",
    "\n",
    "            ## Get Embeddings using HuggingFace model\n",
    "            embeds = model_hugging.encode(titles_batch).tolist()\n",
    "\n",
    "            ## Prepare to Qdrant\n",
    "            to_upsert = Batch(ids=ids_batch, vectors=embeds)\n",
    "\n",
    "            ## Upsert to Qdrant\n",
    "            client.upsert(collection_name='semantic-search-course', wait=True, points=to_upsert)\n",
    "\n",
    "\n",
    "        except Exception as e:\n",
    "            print(f'Error in upserting: {e}')\n",
    "            failed_ids.append(ids_batch)\n",
    "\n",
    "    return failed_ids\n",
    "\n",
    "\n",
    "## Apply the function\n",
    "failed_ids = upsert_to_qdrant(df=df, batch_size=32)"
   ]
  },
  {
   "cell_type": "code",
   "execution_count": 14,
   "metadata": {},
   "outputs": [
    {
     "name": "stdout",
     "output_type": "stream",
     "text": [
      "Status is: green\n",
      "Vectors Count is: 500\n"
     ]
    }
   ],
   "source": [
    "## Check Status of Collection\n",
    "collection_status = client.get_collection(collection_name='semantic-search-course').status\n",
    "collection_count_vectors = client.get_collection(collection_name='semantic-search-course').vectors_count\n",
    "\n",
    "print(f'Status is: {collection_status}')\n",
    "print(f'Vectors Count is: {collection_count_vectors}')"
   ]
  },
  {
   "cell_type": "code",
   "execution_count": 21,
   "metadata": {},
   "outputs": [
    {
     "data": {
      "text/plain": [
       "[{'id': 3552, 'score': 0.773675},\n",
       " {'id': 3368, 'score': 0.36533964},\n",
       " {'id': 3393, 'score': 0.34569108},\n",
       " {'id': 3107, 'score': 0.33020422},\n",
       " {'id': 3524, 'score': 0.27010283},\n",
       " {'id': 3246, 'score': 0.2518342},\n",
       " {'id': 3084, 'score': 0.24108207},\n",
       " {'id': 3150, 'score': 0.23775214},\n",
       " {'id': 3486, 'score': 0.23038086},\n",
       " {'id': 3311, 'score': 0.22535235}]"
      ]
     },
     "execution_count": 21,
     "metadata": {},
     "output_type": "execute_result"
    }
   ],
   "source": [
    "## Inference (Query in real-time) (you can make more than query in one, List)\n",
    "query_text = 'Neutral Technology'\n",
    "\n",
    "## Generate Embedding for the query_text\n",
    "query_embedding = model_hugging.encode(query_text).tolist()\n",
    "\n",
    "## Search in qdrant\n",
    "results = client.search(collection_name='semantic-search-course', query_vector=query_embedding, limit=10, score_threshold=0.2)\n",
    "\n",
    "[{'id': point.id, 'score': point.score} for point in results]"
   ]
  },
  {
   "cell_type": "markdown",
   "metadata": {},
   "source": [
    "-----"
   ]
  }
 ],
 "metadata": {
  "kernelspec": {
   "display_name": "vectdb",
   "language": "python",
   "name": "python3"
  },
  "language_info": {
   "codemirror_mode": {
    "name": "ipython",
    "version": 3
   },
   "file_extension": ".py",
   "mimetype": "text/x-python",
   "name": "python",
   "nbconvert_exporter": "python",
   "pygments_lexer": "ipython3",
   "version": "3.10.9"
  },
  "orig_nbformat": 4
 },
 "nbformat": 4,
 "nbformat_minor": 2
}
