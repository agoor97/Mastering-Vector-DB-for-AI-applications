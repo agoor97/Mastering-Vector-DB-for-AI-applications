{
 "cells": [
  {
   "cell_type": "markdown",
   "metadata": {},
   "source": [
    "##### `Semantic Search with Pinecone and embeddings using HuggingFace Model`"
   ]
  },
  {
   "cell_type": "code",
   "execution_count": 1,
   "metadata": {},
   "outputs": [
    {
     "name": "stderr",
     "output_type": "stream",
     "text": [
      "c:\\Users\\moham\\anaconda3\\envs\\vectdb\\lib\\site-packages\\pinecone\\index.py:4: TqdmWarning: IProgress not found. Please update jupyter and ipywidgets. See https://ipywidgets.readthedocs.io/en/stable/user_install.html\n",
      "  from tqdm.autonotebook import tqdm\n"
     ]
    }
   ],
   "source": [
    "## Import Libraries\n",
    "import pandas as pd\n",
    "import os\n",
    "from tqdm import tqdm\n",
    "from dotenv import load_dotenv\n",
    "import pinecone\n",
    "from sentence_transformers import SentenceTransformer"
   ]
  },
  {
   "cell_type": "code",
   "execution_count": 2,
   "metadata": {},
   "outputs": [],
   "source": [
    "## Load dotenv file\n",
    "_ = load_dotenv(override=True)\n",
    "pinecone_key = os.getenv('PINECONE_API_KEY')\n",
    "pinecone_env = os.getenv('PINECONE_ENV')"
   ]
  },
  {
   "cell_type": "code",
   "execution_count": 3,
   "metadata": {},
   "outputs": [],
   "source": [
    "# ## Reading the big file once to slice it, then commenting this code\n",
    "# FOLDER_PATH = os.path.join(os.getcwd(), 'datasets', 'dataset-semantic')\n",
    "# df = pd.read_csv(os.path.join(FOLDER_PATH, 'medium_articles.csv'))\n",
    "# ## Data is very big, for simplicity taking only the first 500 records, Download them and reread them again.\n",
    "# ## Make sure that the title is string\n",
    "# df['title'] = df['title'].astype(str)\n",
    "\n",
    "# df = df.loc[:499, 'title']\n",
    "\n",
    "# df = pd.DataFrame(df, columns=['title'])\n",
    "# ## Add random id in DF\n",
    "# df['id'] = np.arange(3054, 3054+len(df), 1)\n",
    "\n",
    "\n",
    "# ## Let's consider this is our stock that we want to build semantic search for it.\n",
    "# df.to_csv(os.path.join(FOLDER_PATH, 'articles_new.csv'), index=False)"
   ]
  },
  {
   "cell_type": "code",
   "execution_count": 4,
   "metadata": {},
   "outputs": [
    {
     "data": {
      "text/html": [
       "<div>\n",
       "<style scoped>\n",
       "    .dataframe tbody tr th:only-of-type {\n",
       "        vertical-align: middle;\n",
       "    }\n",
       "\n",
       "    .dataframe tbody tr th {\n",
       "        vertical-align: top;\n",
       "    }\n",
       "\n",
       "    .dataframe thead th {\n",
       "        text-align: right;\n",
       "    }\n",
       "</style>\n",
       "<table border=\"1\" class=\"dataframe\">\n",
       "  <thead>\n",
       "    <tr style=\"text-align: right;\">\n",
       "      <th></th>\n",
       "      <th>title</th>\n",
       "      <th>id</th>\n",
       "      <th>class</th>\n",
       "    </tr>\n",
       "  </thead>\n",
       "  <tbody>\n",
       "    <tr>\n",
       "      <th>0</th>\n",
       "      <td>Mental Note Vol. 24</td>\n",
       "      <td>3054</td>\n",
       "      <td>class-a</td>\n",
       "    </tr>\n",
       "    <tr>\n",
       "      <th>1</th>\n",
       "      <td>Your Brain On Coronavirus</td>\n",
       "      <td>3055</td>\n",
       "      <td>class-b</td>\n",
       "    </tr>\n",
       "    <tr>\n",
       "      <th>2</th>\n",
       "      <td>Mind Your Nose</td>\n",
       "      <td>3056</td>\n",
       "      <td>class-a</td>\n",
       "    </tr>\n",
       "    <tr>\n",
       "      <th>3</th>\n",
       "      <td>The 4 Purposes of Dreams</td>\n",
       "      <td>3057</td>\n",
       "      <td>class-b</td>\n",
       "    </tr>\n",
       "    <tr>\n",
       "      <th>4</th>\n",
       "      <td>Surviving a Rod Through the Head</td>\n",
       "      <td>3058</td>\n",
       "      <td>class-a</td>\n",
       "    </tr>\n",
       "    <tr>\n",
       "      <th>...</th>\n",
       "      <td>...</td>\n",
       "      <td>...</td>\n",
       "      <td>...</td>\n",
       "    </tr>\n",
       "    <tr>\n",
       "      <th>495</th>\n",
       "      <td>Is It Worth to Invest In Mobile E-commerce App...</td>\n",
       "      <td>3549</td>\n",
       "      <td>class-b</td>\n",
       "    </tr>\n",
       "    <tr>\n",
       "      <th>496</th>\n",
       "      <td>Let go of these things for a happier 2021</td>\n",
       "      <td>3550</td>\n",
       "      <td>class-a</td>\n",
       "    </tr>\n",
       "    <tr>\n",
       "      <th>497</th>\n",
       "      <td>Not Everyone Will like Your Writing</td>\n",
       "      <td>3551</td>\n",
       "      <td>class-b</td>\n",
       "    </tr>\n",
       "    <tr>\n",
       "      <th>498</th>\n",
       "      <td>Is Technology Neutral?</td>\n",
       "      <td>3552</td>\n",
       "      <td>class-a</td>\n",
       "    </tr>\n",
       "    <tr>\n",
       "      <th>499</th>\n",
       "      <td>Unveiling The Secrets of Navratri</td>\n",
       "      <td>3553</td>\n",
       "      <td>class-b</td>\n",
       "    </tr>\n",
       "  </tbody>\n",
       "</table>\n",
       "<p>500 rows × 3 columns</p>\n",
       "</div>"
      ],
      "text/plain": [
       "                                                 title    id    class\n",
       "0                                  Mental Note Vol. 24  3054  class-a\n",
       "1                            Your Brain On Coronavirus  3055  class-b\n",
       "2                                       Mind Your Nose  3056  class-a\n",
       "3                             The 4 Purposes of Dreams  3057  class-b\n",
       "4                     Surviving a Rod Through the Head  3058  class-a\n",
       "..                                                 ...   ...      ...\n",
       "495  Is It Worth to Invest In Mobile E-commerce App...  3549  class-b\n",
       "496          Let go of these things for a happier 2021  3550  class-a\n",
       "497                Not Everyone Will like Your Writing  3551  class-b\n",
       "498                             Is Technology Neutral?  3552  class-a\n",
       "499                  Unveiling The Secrets of Navratri  3553  class-b\n",
       "\n",
       "[500 rows x 3 columns]"
      ]
     },
     "execution_count": 4,
     "metadata": {},
     "output_type": "execute_result"
    }
   ],
   "source": [
    "## Read the New CSV File\n",
    "FILE_PATH = os.path.join(os.getcwd(), 'dataset-semantic', 'articles_new.csv')\n",
    "df = pd.read_csv(FILE_PATH)\n",
    "\n",
    "## Add another clolumn (Just an exmaple) --> to be used as metadata\n",
    "df['class'] = ['class-a', 'class-b'] * 250\n",
    "df"
   ]
  },
  {
   "cell_type": "markdown",
   "metadata": {},
   "source": [
    "* `Embeddings using HuggingFace Model`"
   ]
  },
  {
   "cell_type": "code",
   "execution_count": 5,
   "metadata": {},
   "outputs": [
    {
     "data": {
      "text/plain": [
       "SentenceTransformer(\n",
       "  (0): Transformer({'max_seq_length': 256, 'do_lower_case': False}) with Transformer model: BertModel \n",
       "  (1): Pooling({'word_embedding_dimension': 384, 'pooling_mode_cls_token': False, 'pooling_mode_mean_tokens': True, 'pooling_mode_max_tokens': False, 'pooling_mode_mean_sqrt_len_tokens': False})\n",
       "  (2): Normalize()\n",
       ")"
      ]
     },
     "execution_count": 5,
     "metadata": {},
     "output_type": "execute_result"
    }
   ],
   "source": [
    "## A famous transformer (all-MiniLM-L6-v2) from here: https://huggingface.co/sentence-transformers/all-MiniLM-L6-v2\n",
    "\n",
    "## The Model\n",
    "model_hugging = SentenceTransformer(model_name_or_path='all-MiniLM-L6-v2', device='cpu')\n",
    "model_hugging"
   ]
  },
  {
   "cell_type": "code",
   "execution_count": 6,
   "metadata": {},
   "outputs": [
    {
     "name": "stdout",
     "output_type": "stream",
     "text": [
      "Length of Hugging Face Model is: 384\n"
     ]
    },
    {
     "data": {
      "text/plain": [
       "array([-0.0131355 ,  0.06555433, -0.01977038, -0.03618841, -0.07723403,\n",
       "        0.10825918,  0.0849674 ,  0.02290434,  0.02159446,  0.00035316],\n",
       "      dtype=float32)"
      ]
     },
     "execution_count": 6,
     "metadata": {},
     "output_type": "execute_result"
    }
   ],
   "source": [
    "## test model for embedding \n",
    "vect_length_hugging = len(model_hugging.encode(df['title'].iloc[0]))\n",
    "print('Length of Hugging Face Model is:', vect_length_hugging)\n",
    "\n",
    "## First 10 values\n",
    "model_hugging.encode(df['title'].iloc[0])[:10]"
   ]
  },
  {
   "cell_type": "markdown",
   "metadata": {},
   "source": [
    "* `Pinecone in Code`"
   ]
  },
  {
   "cell_type": "code",
   "execution_count": 7,
   "metadata": {},
   "outputs": [
    {
     "name": "stdout",
     "output_type": "stream",
     "text": [
      "Deleting existing indexes for free tier ..\n",
      "Creating New Index: semantic-huggingface-model-course ...\n",
      "Done ...\n"
     ]
    }
   ],
   "source": [
    "## Connect to pinecone\n",
    "pinecone.init(\n",
    "        api_key=pinecone_key,\n",
    "        environment=pinecone_env\n",
    "            )\n",
    "\n",
    "## For Free tier, Only one index is accepted --> So removing any other indexes firstly\n",
    "try:\n",
    "    print('Deleting existing indexes for free tier ..')\n",
    "    _ = [pinecone.delete_index(name=name) for name in pinecone.list_indexes()]\n",
    "except:\n",
    "    print('No existing indexes ..')\n",
    "\n",
    "## Create the index\n",
    "index_name = 'semantic-huggingface-model-course'\n",
    "if index_name not in pinecone.list_indexes():\n",
    "    print(f'Creating New Index: {index_name} ...')  \n",
    "    ## Create\n",
    "    pinecone.create_index(name=index_name, dimension=vect_length_hugging, metric='cosine') ## and more like (pods=1, pod_type='p1.x1')\n",
    "    print('Done ...')\n",
    "\n",
    "## Index Now is Created, But we want to connect it to upsert vectors to it\n",
    "index = pinecone.Index(index_name=index_name)"
   ]
  },
  {
   "cell_type": "code",
   "execution_count": 8,
   "metadata": {},
   "outputs": [
    {
     "name": "stderr",
     "output_type": "stream",
     "text": [
      "100%|██████████| 32/32 [00:28<00:00,  1.13it/s]\n"
     ]
    }
   ],
   "source": [
    "## Looping over the Dataset and upsert through batches\n",
    "batch_size = 16\n",
    "failed_ids = []\n",
    "\n",
    "for batch_start in tqdm(range(0, len(df), batch_size)):\n",
    "    try:\n",
    "        ## Prepare Batches\n",
    "        batch_end = min(batch_start+batch_size, len(df))              ## to handle the end of each batch\n",
    "        titles_batch = df['title'][batch_start: batch_end].tolist()   ## Slice the DF according to each batch\n",
    "        ids_batch = df['id'][batch_start: batch_end].astype(str).tolist()         ## Also, Slice for the Ids according to each batch\n",
    "        metadata_batch = df['class'][batch_start: batch_end].tolist()\n",
    "\n",
    "        ## Get Embeddings using HuggingFace model\n",
    "        embeds_batch = model_hugging.encode(titles_batch).tolist()\n",
    "\n",
    "        ## Prepare to pinecone \n",
    "        # to_upsert = list(zip(ids_batch, embeds_batch))\n",
    "\n",
    "        ## Prepare data for Pinecone upsert\n",
    "        to_upsert = [(id, emb, {'class': cls})\n",
    "                             for id, emb, cls in zip(ids_batch, embeds_batch, metadata_batch)]\n",
    "\n",
    "        ## Insert to pinecone\n",
    "        _ = index.upsert(vectors=to_upsert, namespace='semantic-huggingface')\n",
    "    \n",
    "    except Exception as e:\n",
    "        print(f'Error Upserting: {e}')\n",
    "        failed_ids.append(ids_batch)"
   ]
  },
  {
   "cell_type": "code",
   "execution_count": 22,
   "metadata": {},
   "outputs": [
    {
     "data": {
      "text/plain": [
       "[{'id': '3393',\n",
       "  'metadata': {'class': 'class-b'},\n",
       "  'score': 0.345691055,\n",
       "  'values': []},\n",
       " {'id': '3107',\n",
       "  'metadata': {'class': 'class-b'},\n",
       "  'score': 0.330204219,\n",
       "  'values': []},\n",
       " {'id': '3311',\n",
       "  'metadata': {'class': 'class-b'},\n",
       "  'score': 0.225352362,\n",
       "  'values': []},\n",
       " {'id': '3277',\n",
       "  'metadata': {'class': 'class-b'},\n",
       "  'score': 0.219006956,\n",
       "  'values': []},\n",
       " {'id': '3463',\n",
       "  'metadata': {'class': 'class-b'},\n",
       "  'score': 0.206147298,\n",
       "  'values': []}]"
      ]
     },
     "execution_count": 22,
     "metadata": {},
     "output_type": "execute_result"
    }
   ],
   "source": [
    "## Inference (Query in real-time) (you can make more than query in one, List)\n",
    "query_text = 'Neutral Technology'\n",
    "\n",
    "## Generate Embedding for the query_text\n",
    "query_embedding = model_hugging.encode(query_text).tolist()\n",
    "\n",
    "## Search in pinecone\n",
    "results = index.query(queries=[query_embedding], top_k=5, include_metadata=True, namespace='semantic-huggingface', filter={'class': 'class-b'})\n",
    "\n",
    "results['results'][0]['matches']\n",
    "# [record['id'] for record in results['results'][0]['matches']]"
   ]
  },
  {
   "cell_type": "code",
   "execution_count": null,
   "metadata": {},
   "outputs": [],
   "source": [
    "## You can delete vectors using ids\n",
    "_ = index.delete(ids=['3328', '3152'])"
   ]
  },
  {
   "cell_type": "code",
   "execution_count": null,
   "metadata": {},
   "outputs": [],
   "source": [
    "## To update the embeddings of any id \n",
    "text_update = 'This is for updating the Id and change embeddings'\n",
    "embeds_update = model_hugging.encode(text_update).tolist()\n",
    "\n",
    "## Update or you can use upsert\n",
    "_ = index.update(id='3191', values=embeds_update)"
   ]
  },
  {
   "cell_type": "code",
   "execution_count": null,
   "metadata": {},
   "outputs": [],
   "source": [
    "## Fetch ids\n",
    "index.fetch(ids=['3191', '3292'])"
   ]
  },
  {
   "cell_type": "markdown",
   "metadata": {},
   "source": [
    "-----"
   ]
  },
  {
   "cell_type": "code",
   "execution_count": 26,
   "metadata": {},
   "outputs": [
    {
     "data": {
      "text/plain": [
       "[{'id': '3393',\n",
       "  'metadata': {'class': 'class-b'},\n",
       "  'score': 0.345691055,\n",
       "  'values': []},\n",
       " {'id': '3107',\n",
       "  'metadata': {'class': 'class-b'},\n",
       "  'score': 0.330204219,\n",
       "  'values': []},\n",
       " {'id': '3311',\n",
       "  'metadata': {'class': 'class-b'},\n",
       "  'score': 0.225352362,\n",
       "  'values': []},\n",
       " {'id': '3277',\n",
       "  'metadata': {'class': 'class-b'},\n",
       "  'score': 0.219006956,\n",
       "  'values': []},\n",
       " {'id': '3463',\n",
       "  'metadata': {'class': 'class-b'},\n",
       "  'score': 0.206147298,\n",
       "  'values': []}]"
      ]
     },
     "execution_count": 26,
     "metadata": {},
     "output_type": "execute_result"
    }
   ],
   "source": []
  },
  {
   "cell_type": "code",
   "execution_count": 25,
   "metadata": {},
   "outputs": [
    {
     "data": {
      "text/plain": [
       "{'results': [{'matches': [{'id': '3393',\n",
       "                           'metadata': {'class': 'class-b'},\n",
       "                           'score': 0.345691055,\n",
       "                           'values': []},\n",
       "                          {'id': '3107',\n",
       "                           'metadata': {'class': 'class-b'},\n",
       "                           'score': 0.330204219,\n",
       "                           'values': []},\n",
       "                          {'id': '3311',\n",
       "                           'metadata': {'class': 'class-b'},\n",
       "                           'score': 0.225352362,\n",
       "                           'values': []},\n",
       "                          {'id': '3277',\n",
       "                           'metadata': {'class': 'class-b'},\n",
       "                           'score': 0.219006956,\n",
       "                           'values': []},\n",
       "                          {'id': '3463',\n",
       "                           'metadata': {'class': 'class-b'},\n",
       "                           'score': 0.206147298,\n",
       "                           'values': []}],\n",
       "              'namespace': 'semantic-huggingface'}]}"
      ]
     },
     "execution_count": 25,
     "metadata": {},
     "output_type": "execute_result"
    }
   ],
   "source": [
    "results"
   ]
  },
  {
   "cell_type": "code",
   "execution_count": 31,
   "metadata": {},
   "outputs": [
    {
     "data": {
      "text/plain": [
       "[{'id': 3393, 'score': 0.345691055, 'class': 'class-b'},\n",
       " {'id': 3107, 'score': 0.330204219, 'class': 'class-b'},\n",
       " {'id': 3311, 'score': 0.225352362, 'class': 'class-b'},\n",
       " {'id': 3277, 'score': 0.219006956, 'class': 'class-b'},\n",
       " {'id': 3463, 'score': 0.206147298, 'class': 'class-b'}]"
      ]
     },
     "execution_count": 31,
     "metadata": {},
     "output_type": "execute_result"
    }
   ],
   "source": [
    "e = [{'id': int(record['id']), 'score': float(record['score']), 'class': record['metadata']['class']} for record in results['results'][0]['matches']]\n",
    "e"
   ]
  },
  {
   "cell_type": "code",
   "execution_count": null,
   "metadata": {},
   "outputs": [],
   "source": []
  }
 ],
 "metadata": {
  "kernelspec": {
   "display_name": "Python 3 (ipykernel)",
   "language": "python",
   "name": "python3"
  },
  "language_info": {
   "codemirror_mode": {
    "name": "ipython",
    "version": 3
   },
   "file_extension": ".py",
   "mimetype": "text/x-python",
   "name": "python",
   "nbconvert_exporter": "python",
   "pygments_lexer": "ipython3",
   "version": "3.10.9"
  }
 },
 "nbformat": 4,
 "nbformat_minor": 2
}
