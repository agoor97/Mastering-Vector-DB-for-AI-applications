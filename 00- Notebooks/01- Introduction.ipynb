{
 "cells": [
  {
   "cell_type": "markdown",
   "metadata": {},
   "source": [
    "<img src=\"https://res.cloudinary.com/practicaldev/image/fetch/s--uQUPsCGS--/c_imagga_scale,f_auto,fl_progressive,h_500,q_auto,w_1000/https://dev-to-uploads.s3.amazonaws.com/uploads/articles/7ay291fm44fafe0n5igr.png\" alt=\"vector_stores\" width=\"700\" height=\"300\">"
   ]
  },
  {
   "cell_type": "markdown",
   "metadata": {},
   "source": [
    "#### `Vector DataBases`\n",
    "* `1. Loading thes embeddings or features maps in DataFrame or in memory is not suitable for big datasets`\n",
    "* `2. Instead we introduce vector Databases.`\n",
    "* `3. Vector Databases is designed specifically for handling this type of data (Embeddings for Texts or Feature Extraction for Images).`\n",
    "* `4. Vector Databases are offering optimized storgae and querying capabilities for these types of problems. `\n",
    "* `5. Vector Databases are offering high performance, sacalability, and flexibility.`\n",
    "* `6. In Vector Database we apply a similarity metric to fine the most similar records to one that I am searching with. (Think like SELECT in SQL)`\n",
    "* `7. Vecrtor Database use different optimized algorithms that all use ANN (Approximate Nearest Neighbor) Search`\n",
    "* `8. Steps are: Get the (Embeddings or the Features Maps) then (indexing to database) then (query).`\n",
    "\n",
    "<img src=\"https://cdn.sanity.io/images/vr8gru94/production/e88ebbacb848b09e477d11eedf4209d10ea4ac0a-1399x537.png\" alt=\"vector_stores\" width=\"700\" height=\"300\">"
   ]
  },
  {
   "cell_type": "markdown",
   "metadata": {},
   "source": [
    "----"
   ]
  },
  {
   "cell_type": "markdown",
   "metadata": {},
   "source": [
    "##### `Providers`\n",
    "* `There are several providers for these kinds of services, like (Pinecone, Chroma, Qdrant, Milvus, Weaviate,, etc.)`"
   ]
  },
  {
   "cell_type": "markdown",
   "metadata": {},
   "source": [
    "<img src=\"https://nolowiz.com/wp-content/uploads/2023/04/11_best_vector_databases_feature_image.png\" alt=\"vector_stores\" width=\"700\" height=\"300\">"
   ]
  },
  {
   "cell_type": "markdown",
   "metadata": {},
   "source": [
    "---"
   ]
  },
  {
   "cell_type": "markdown",
   "metadata": {},
   "source": [
    "#### `Embeddings for Texts`\n",
    "* `1. Embeddings are the core and the main stone in building LLMs`\n",
    "* `2. They are numeric representations of text`\n",
    "* `3. Texts then will be converted to vectors, each model has its own size of vectors`\n",
    "* `4. To get the similarity between two texts, we can get the similarity between their embeddings vectors`\n",
    "* `5. We can use cosine similarity, euclidean distance, dot product .. etc to get the score of similarity bewtween them.`\n",
    "* `6. Cosine Similarity ranges between (-1 -> 1, roughly between (0 -> 1)), Higher values represent higher similarity.`\n",
    "* `7. Dot Product only can also be used instead of cosine similarity for faster retrieving`\n",
    "* `8. Euclidean Distance can be used, Smaller values means the high similarity`\n",
    "* `9. Embeddings applications are a lot such as: Classification, Semantic Search, QA Application, Summarization and more..`"
   ]
  },
  {
   "cell_type": "markdown",
   "metadata": {},
   "source": [
    "<img src=\"https://corpling.hypotheses.org/files/2018/04/Screen-Shot-2018-04-25-at-13.21.44.png\" alt=\"embeddings\" width=\"600\" height=\"400\">\n",
    "\n",
    "* `We will use Embeddings in Applications like (Semantic Search, Clustering, and more)`"
   ]
  },
  {
   "cell_type": "markdown",
   "metadata": {},
   "source": [
    "---"
   ]
  },
  {
   "cell_type": "markdown",
   "metadata": {},
   "source": [
    "#### `Feature Extraction for Images`\n",
    "* `Feature Extraction using ConvBase of pretrained model to transform input images to meaningful features maps.`\n",
    "* `This Features are flattened and be one vector, Noe This vector reprsents the meanings of the image.`\n",
    "* `Use this vector for searching and similarity measures`\n",
    "* `Using This Approach, We can build image/video search engine using the same conecpt as we discussed using embeddings`"
   ]
  },
  {
   "cell_type": "markdown",
   "metadata": {},
   "source": [
    "\n",
    "<img src=\"https://qph.cf2.quoracdn.net/main-qimg-9b3d3424df138ad5d7a87506dfddbc94-pjlq\" alt=\"features_maps\" width=\"700\" height=\"300\">\n"
   ]
  },
  {
   "cell_type": "markdown",
   "metadata": {},
   "source": [
    "-----"
   ]
  },
  {
   "cell_type": "markdown",
   "metadata": {},
   "source": [
    "##### `What We will discuss in this course?`\n",
    "* `1. Get familiar with different vector databases (pinecone, chroma, qdrant, weaviate)`\n",
    "* `2. Semantic Search using different models (HuggingFace, OpenAI) for embeddings using each vector database.`\n",
    "* `3. Image Search using different models (Transfer Learning) for features extraction using each vector database.`\n",
    "* `4. End-TO-End project on semantic search using one of the vector databases.`\n",
    "* `5. End-TO-End project on image search using another one of the vector databases.`\n",
    "* `6. Discussing open-source libraries that can apply image search like (DeepImageSearch) & (FAISS & ANNoy).`\n",
    "* `7. Discussing open-source libraries that can apply semantic search like (txtai).`"
   ]
  },
  {
   "cell_type": "markdown",
   "metadata": {},
   "source": [
    "---"
   ]
  },
  {
   "cell_type": "markdown",
   "metadata": {},
   "source": [
    "##### `Datasets Used`"
   ]
  },
  {
   "cell_type": "markdown",
   "metadata": {},
   "source": [
    "[Semantic-Search-Dataset](https://www.kaggle.com/datasets/fabiochiusano/medium-articles)\n",
    "\n",
    "* This Dataset contains a lot of instances, I take only the first 500 instances for simplicity, and a random id as a new column."
   ]
  },
  {
   "cell_type": "markdown",
   "metadata": {},
   "source": [
    "[Image-Search-Dataset](https://www.kaggle.com/datasets/iamsouravbanerjee/animal-image-dataset-90-different-animals)\n",
    "* This is animal image dataset contains 90 different animals."
   ]
  },
  {
   "cell_type": "markdown",
   "metadata": {},
   "source": [
    "---"
   ]
  }
 ],
 "metadata": {
  "kernelspec": {
   "display_name": "vectdb",
   "language": "python",
   "name": "python3"
  },
  "language_info": {
   "codemirror_mode": {
    "name": "ipython",
    "version": 3
   },
   "file_extension": ".py",
   "mimetype": "text/x-python",
   "name": "python",
   "nbconvert_exporter": "python",
   "pygments_lexer": "ipython3",
   "version": "3.10.9"
  },
  "orig_nbformat": 4
 },
 "nbformat": 4,
 "nbformat_minor": 2
}
